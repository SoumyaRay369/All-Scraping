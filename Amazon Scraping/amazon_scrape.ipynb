{
 "cells": [
  {
   "cell_type": "code",
   "execution_count": 1,
   "metadata": {},
   "outputs": [],
   "source": [
    "from selenium.webdriver import Chrome, ChromeOptions\n",
    "from selenium.webdriver.common.by import By\n",
    "from time import sleep\n",
    "import pandas as pd"
   ]
  },
  {
   "cell_type": "code",
   "execution_count": 2,
   "metadata": {},
   "outputs": [],
   "source": [
    "driver = Chrome()"
   ]
  },
  {
   "cell_type": "code",
   "execution_count": 3,
   "metadata": {},
   "outputs": [],
   "source": [
    "driver.get(\"https://amazon.in\")"
   ]
  },
  {
   "cell_type": "code",
   "execution_count": 4,
   "metadata": {},
   "outputs": [],
   "source": [
    "input_box = driver.find_element(By.XPATH, '//form/div[2]/div/input')\n",
    "search_button = driver.find_element(By.XPATH, '//form/div[3]/div/span/input')"
   ]
  },
  {
   "cell_type": "code",
   "execution_count": 5,
   "metadata": {},
   "outputs": [],
   "source": [
    "input_box.send_keys('rtx laptops')\n",
    "sleep(2)\n",
    "search_button.click()"
   ]
  },
  {
   "cell_type": "code",
   "execution_count": 6,
   "metadata": {},
   "outputs": [],
   "source": [
    "laptop_list = []"
   ]
  },
  {
   "cell_type": "code",
   "execution_count": 7,
   "metadata": {},
   "outputs": [
    {
     "name": "stdout",
     "output_type": "stream",
     "text": [
      "Currently scraping page 1\n",
      "Currently scraping page 2\n",
      "Currently scraping page 3\n",
      "Currently scraping page 4\n",
      "Currently scraping page 5\n",
      "Currently scraping page 6\n",
      "Currently scraping page 7\n",
      "Currently scraping page 8\n",
      "Currently scraping page 9\n",
      "Currently scraping page 10\n"
     ]
    }
   ],
   "source": [
    "for page_number in range(10):\n",
    "    laptop_text = driver.find_elements(By.XPATH, '//span[@class=\"a-size-medium a-color-base a-text-normal\"]')\n",
    "    print(\"Currently scraping page\", (page_number + 1))\n",
    "    for laptop in laptop_text: \n",
    "        name = laptop.text\n",
    "        \n",
    "        laptop_list.append(laptop.text)\n",
    "    sleep(2)\n",
    "    next_button = driver.find_element(By.XPATH, '//a[@class = \"s-pagination-item s-pagination-next s-pagination-button s-pagination-separator\"]' ) \n",
    "    next_button.click()"
   ]
  },
  {
   "cell_type": "code",
   "execution_count": 8,
   "metadata": {},
   "outputs": [
    {
     "data": {
      "text/plain": [
       "22"
      ]
     },
     "execution_count": 8,
     "metadata": {},
     "output_type": "execute_result"
    }
   ],
   "source": [
    "len(laptop_list)"
   ]
  },
  {
   "cell_type": "code",
   "execution_count": 9,
   "metadata": {},
   "outputs": [],
   "source": [
    "df = pd.DataFrame(laptop_list)"
   ]
  },
  {
   "cell_type": "code",
   "execution_count": 10,
   "metadata": {},
   "outputs": [],
   "source": [
    "df.to_excel(\"RTX Laptops.xlsx\", index=False)"
   ]
  }
 ],
 "metadata": {
  "kernelspec": {
   "display_name": ".env",
   "language": "python",
   "name": "python3"
  },
  "language_info": {
   "codemirror_mode": {
    "name": "ipython",
    "version": 3
   },
   "file_extension": ".py",
   "mimetype": "text/x-python",
   "name": "python",
   "nbconvert_exporter": "python",
   "pygments_lexer": "ipython3",
   "version": "3.9.6"
  }
 },
 "nbformat": 4,
 "nbformat_minor": 2
}
