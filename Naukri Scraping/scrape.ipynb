{
 "cells": [
  {
   "cell_type": "code",
   "execution_count": 1,
   "metadata": {},
   "outputs": [],
   "source": [
    "from selenium.webdriver import Chrome, ChromeOptions\n",
    "import pandas as pd\n",
    "from selenium.webdriver.common.by import By\n",
    "from time import sleep"
   ]
  },
  {
   "cell_type": "code",
   "execution_count": 2,
   "metadata": {},
   "outputs": [],
   "source": [
    "driver = Chrome()"
   ]
  },
  {
   "cell_type": "code",
   "execution_count": 3,
   "metadata": {},
   "outputs": [],
   "source": [
    "driver.get(\"https://www.naukri.com\")"
   ]
  },
  {
   "cell_type": "code",
   "execution_count": 4,
   "metadata": {},
   "outputs": [],
   "source": [
    "skill_input = driver.find_element(By.XPATH, '//div[@class = \"keywordSugg\"]/div/div/div/div//div/input')\n",
    "drop_down_arrow = driver.find_element(By.XPATH, '//input[@class = \"ddInput nonSearched\"]')\n",
    "\n",
    "location_input = driver.find_element(By.XPATH, '//div[@class = \"locationSugg\"]/div/div/div/div/div/input')\n",
    "search_button = driver.find_element(By.XPATH, \"//div[@class = 'qsbSubmit']\")"
   ]
  },
  {
   "cell_type": "code",
   "execution_count": 5,
   "metadata": {},
   "outputs": [],
   "source": [
    "skill_input.send_keys(\"Data Analyst\")\n",
    "drop_down_arrow.click()\n",
    "fresher_option_click = driver.find_element(By.XPATH, '//div[@class = \"dropdownMainContainer focus\"]/div/div/div/div/div/div/ul/li/div')\n",
    "fresher_option_click.click()\n",
    "location_input.send_keys(\"Bengaluru\")\n",
    "search_button.click()"
   ]
  },
  {
   "cell_type": "code",
   "execution_count": 6,
   "metadata": {},
   "outputs": [],
   "source": [
    "job_roles = driver.find_elements(By.XPATH, '//div[@class = \"styles_job-listing-container__OCfZC\"]/div/div[@class = \"srp-jobtuple-wrapper\"]/div/div/a')\n",
    "company_name = driver.find_elements(By.XPATH, '//div[@class = \"styles_job-listing-container__OCfZC\"]/div/div[@class = \"srp-jobtuple-wrapper\"]/div/div/span/a[1]')"
   ]
  },
  {
   "cell_type": "code",
   "execution_count": 7,
   "metadata": {},
   "outputs": [],
   "source": [
    "for jobs in job_roles:\n",
    "    print (jobs.text)"
   ]
  },
  {
   "cell_type": "code",
   "execution_count": 8,
   "metadata": {},
   "outputs": [
    {
     "name": "stdout",
     "output_type": "stream",
     "text": [
      "Scraping page:  1\n",
      "Scraping page:  2\n",
      "Scraping page:  3\n",
      "Scraping page:  4\n",
      "Scraping page:  5\n",
      "Scraping page:  6\n",
      "Scraping page:  7\n",
      "Scraping page:  8\n",
      "Scraping page:  9\n",
      "Scraping page:  10\n"
     ]
    }
   ],
   "source": [
    "job_list = []\n",
    "\n",
    "for page in range(10):\n",
    "    job_roles = driver.find_elements(By.XPATH, '//div[@class = \"styles_job-listing-container__OCfZC\"]/div/div[@class = \"srp-jobtuple-wrapper\"]/div/div/a')\n",
    "    company_name = driver.find_elements(By.XPATH, '//div[@class = \"styles_job-listing-container__OCfZC\"]/div/div[@class = \"srp-jobtuple-wrapper\"]/div/div/span/a[1]')\n",
    "    print(\"Scraping page: \", (page + 1))\n",
    "    for title, company in zip(job_roles, company_name):\n",
    "        job = {\n",
    "            \"job_title\" : title.text,\n",
    "            \"name_of_company\" : company.text \n",
    "        }\n",
    "        \n",
    "        job_list.append(job)\n",
    "    sleep(2)\n",
    "    next_button = driver.find_element(By.XPATH, '//div[@class = \"styles_pagination-cont__sWhS6\"]/div/a[2]')\n",
    "    next_button.click()\n",
    "    sleep(3)\n",
    "    \n",
    "    "
   ]
  },
  {
   "cell_type": "code",
   "execution_count": 9,
   "metadata": {},
   "outputs": [
    {
     "data": {
      "text/plain": [
       "180"
      ]
     },
     "execution_count": 9,
     "metadata": {},
     "output_type": "execute_result"
    }
   ],
   "source": [
    "len(job_list)"
   ]
  },
  {
   "cell_type": "code",
   "execution_count": 10,
   "metadata": {},
   "outputs": [
    {
     "name": "stdout",
     "output_type": "stream",
     "text": [
      "[{'job_title': 'Data Scientist', 'name_of_company': 'Ericsson'}, {'job_title': 'Business Analyst', 'name_of_company': 'Phonepe'}, {'job_title': 'Data Scientist', 'name_of_company': 'Data Collection Infotech'}, {'job_title': 'Data Scientist', 'name_of_company': 'Akaike Technologies'}, {'job_title': 'Business Analyst / Financial Analyst', 'name_of_company': 'Milestone Online Technology'}, {'job_title': 'Operations Business Analyst', 'name_of_company': 'Saveo'}, {'job_title': 'Data Analytic | Fresher | Business Analytics', 'name_of_company': 'Freelancer Varsha Kothari'}, {'job_title': 'Business Analyst Training', 'name_of_company': 'Bacentric'}, {'job_title': 'Business Analyst / Financial Analyst / Management Trainee', 'name_of_company': 'Milestone Online Technology'}, {'job_title': 'Business Analyst', 'name_of_company': 'Nexpro247'}, {'job_title': 'Data Analytic | Fresher | Business Analytics', 'name_of_company': 'Fortune India 500 Banking Firm'}, {'job_title': 'BI Analyst (Immediate Joiner)', 'name_of_company': 'Lkss & Associates'}, {'job_title': 'Finance Analyst - Sales & Production (Immediate Joiner)', 'name_of_company': 'Lkss & Associates'}, {'job_title': 'Associate - Data Engineer', 'name_of_company': 'Bain Company India Pvt. Ltd.'}, {'job_title': 'Intern - Data Sciences', 'name_of_company': 'Siemens'}, {'job_title': 'Data Scientist- Trainee, Junior at MNC', 'name_of_company': 'Our Clinet is MNC present in 5 Countries'}, {'job_title': 'Assistant Data Analytics', 'name_of_company': 'BDO International Limited'}, {'job_title': 'Market Analyst', 'name_of_company': 'Panacea Medical Technologies'}, {'job_title': 'Data Scientist Intern Rigbot', 'name_of_company': 'rigbot.com'}, {'job_title': 'Data Scientist Intern(1)', 'name_of_company': 'Blubirch'}, {'job_title': 'Data Scientist', 'name_of_company': 'Response Informatics'}, {'job_title': 'Product Data Scientist', 'name_of_company': 'Sundial'}, {'job_title': 'Data Scientist', 'name_of_company': 'Citriot'}, {'job_title': 'Hiring Analyst For KYC/AML', 'name_of_company': 'Trigger Education Services'}, {'job_title': 'Analyst, Paid Social', 'name_of_company': 'Anteriad'}, {'job_title': 'Junior reporting analyst', 'name_of_company': 'Arena Investors'}, {'job_title': 'Mentor Junior Analysts', 'name_of_company': 'Codehall Technology'}, {'job_title': 'Sales Operations Billing Analyst', 'name_of_company': 'Pradeepit Consulting Services'}, {'job_title': 'Analyst', 'name_of_company': 'Agre Strategies'}, {'job_title': 'Data Entry Executive', 'name_of_company': 'Champions Group'}, {'job_title': 'Analyst, Strategy', 'name_of_company': 'Tresvista Financial Services'}, {'job_title': 'Finance Analyst', 'name_of_company': 'Kristalball'}, {'job_title': 'Portfolio Implementation Analyst', 'name_of_company': 'ARP Investments'}, {'job_title': 'Product Analyst Associate', 'name_of_company': 'Nbyula'}, {'job_title': 'Campaign Analyst', 'name_of_company': 'Skit.ai'}, {'job_title': 'Video Analyst Trainee', 'name_of_company': 'Innovary Technologies'}, {'job_title': 'Data Entry', 'name_of_company': 'Aron Universal'}, {'job_title': 'Data Gathering', 'name_of_company': 'Aionex Outsourcing Services'}, {'job_title': 'Walk in B.tech/B. E Freshers Operations Analyst Global MNC', 'name_of_company': 'Leading global IT Consulting Firm'}, {'job_title': 'Data Engineer', 'name_of_company': 'Coders Brain Pvt Ltd'}, {'job_title': 'Data Science Intern', 'name_of_company': 'Nanobi Data & Analytics'}, {'job_title': 'DATA ENGINEERING INTERN', 'name_of_company': 'Krayo'}, {'job_title': 'Data Engineer', 'name_of_company': 'Beinex Consulting'}, {'job_title': 'Data Annotation(Audio Transcription) - Assamese', 'name_of_company': 'Reverie Language Technologies'}, {'job_title': 'Data Engineer', 'name_of_company': 'Cloudphysician Healthcare'}, {'job_title': 'Data Associate', 'name_of_company': 'Good Business Lab'}, {'job_title': 'Engineer - Data Science (DATA SCIENCE ENGINEER)', 'name_of_company': 'Ninestars Information Technologies'}, {'job_title': 'Data Science Intern', 'name_of_company': 'Emoolar Technology'}, {'job_title': 'Executive/Sr. Executive - Business Advisory & Transaction Support', 'name_of_company': 'CA Monk'}, {'job_title': 'Business Advisory New Associate', 'name_of_company': 'Accenture'}, {'job_title': 'Business Advisory New Associate', 'name_of_company': 'Accenture'}, {'job_title': 'Business Development Associate', 'name_of_company': 'Northstar Academy'}, {'job_title': 'MIS Executive FTE', 'name_of_company': 'Diamondpick'}, {'job_title': 'Business Development Intern', 'name_of_company': 'SMART ED'}, {'job_title': 'Executive.Business Development', 'name_of_company': 'Aster Medcity'}, {'job_title': 'Business Development / Marketing Executives', 'name_of_company': 'Orthos Technologies'}, {'job_title': 'Engineering Services Practitioner', 'name_of_company': 'Accenture'}, {'job_title': 'Engineering Services Practitioner', 'name_of_company': 'Accenture'}, {'job_title': 'Engineering Services Practitioner', 'name_of_company': 'Accenture'}, {'job_title': 'Business Management Intern', 'name_of_company': 'Centum Learning'}, {'job_title': 'Business Development Intern', 'name_of_company': 'Softora'}, {'job_title': 'Marketing Executive Freshers', 'name_of_company': 'Vatsal Technosoft'}, {'job_title': 'Business Management Intern', 'name_of_company': 'Centum Learning'}, {'job_title': 'Student Mentor', 'name_of_company': 'Vedantu Innovations'}, {'job_title': 'Inventory Support Executive', 'name_of_company': 'The Orange Health'}, {'job_title': 'Associate BI Developer', 'name_of_company': 'Kaplan Test Prep'}, {'job_title': 'Engineering Services Practitioner', 'name_of_company': 'Accenture'}, {'job_title': 'Technical Intern', 'name_of_company': 'Siemens'}, {'job_title': 'HR Intern', 'name_of_company': 'Smartworks'}, {'job_title': 'Assistant Pharmacology', 'name_of_company': 'Fortis'}, {'job_title': 'Assistant Clinical Research', 'name_of_company': 'Fortis'}, {'job_title': 'Management Trainee', 'name_of_company': 'Royaloak Incorporation'}, {'job_title': 'PPSM New Associate - Reporting', 'name_of_company': 'Accenture'}, {'job_title': 'Concierge Associate', 'name_of_company': 'Marriott'}, {'job_title': 'Assistant Clinical Research', 'name_of_company': 'Fortis'}, {'job_title': 'Application Tech Support Practitioner', 'name_of_company': 'Accenture'}, {'job_title': 'Application Tech Support Practitioner', 'name_of_company': 'Accenture'}, {'job_title': 'Order To Cash Operations New Associate', 'name_of_company': 'Accenture'}, {'job_title': 'Order To Cash Operations New Associate', 'name_of_company': 'Accenture'}, {'job_title': 'Trust & Safety New Associate', 'name_of_company': 'Accenture'}, {'job_title': 'Trust & Safety New Associate', 'name_of_company': 'Accenture'}, {'job_title': 'Procure To Pay Operations New Associate', 'name_of_company': 'Accenture'}, {'job_title': 'Regulatory Compliance New Associate', 'name_of_company': 'Accenture'}, {'job_title': 'Record To Report Ops New Associate', 'name_of_company': 'Accenture'}, {'job_title': 'Record To Report Ops New Associate', 'name_of_company': 'Accenture'}, {'job_title': 'Regulatory Compliance New Associate', 'name_of_company': 'Accenture'}, {'job_title': 'Supply Chain & QA Professional', 'name_of_company': 'Starbucks'}, {'job_title': 'Supply Chain & QA', 'name_of_company': 'Starbucks'}, {'job_title': 'Assistant Supervisor - Community Connect', 'name_of_company': 'Fortis'}, {'job_title': 'Academic Mentor', 'name_of_company': 'Vedantu Innovations'}, {'job_title': 'MIS and Front Desk Coordinator', 'name_of_company': 'Homz N Space'}, {'job_title': 'Sales Executive', 'name_of_company': 'Vervenest Technologies'}, {'job_title': 'GET/PGET', 'name_of_company': 'Collins Aerospace'}, {'job_title': 'Principal Scientist (Biotransformation)', 'name_of_company': 'Primohunt Corporate'}, {'job_title': 'MIS EXECUTIVE', 'name_of_company': 'Multiplier Brand Solutions'}, {'job_title': 'Product Lifecycle Management Consultant (6months)', 'name_of_company': 'TMRW'}, {'job_title': 'Subject Matter Expert', 'name_of_company': 'Eagle Information Systems'}, {'job_title': 'Hr Associate - BGC or BGV', 'name_of_company': 'Adecco Group'}, {'job_title': 'Control Tower Executive', 'name_of_company': 'Freshmenu'}, {'job_title': 'Intern People Team', 'name_of_company': 'Epifi Technologies'}, {'job_title': 'Intern People Team', 'name_of_company': 'Epifi Technologies'}, {'job_title': 'Looking For Team leaders / Telecallers / Field Executives', 'name_of_company': 'Imatrix Services'}, {'job_title': 'Associate Executive', 'name_of_company': 'Infinite Computer Solutions India Pvt. Ltd.'}, {'job_title': 'Executive - Accounts', 'name_of_company': 'RAC It Solutions'}, {'job_title': 'Process executive (Day Shift BPO/KPO)', 'name_of_company': 'Campus Technology'}, {'job_title': 'Executive', 'name_of_company': 'Conneqt'}, {'job_title': 'Executive', 'name_of_company': 'Conneqt'}, {'job_title': 'MARKETING EXECUTIVES', 'name_of_company': 'Cloud Packers and Movers'}, {'job_title': 'Executive', 'name_of_company': 'Conneqt'}, {'job_title': 'Book Executive', 'name_of_company': 'Pratham Books'}, {'job_title': 'Executive', 'name_of_company': 'Conneqt'}, {'job_title': 'Executive', 'name_of_company': 'Conneqt'}, {'job_title': 'Trust & Safety Operations Executive', 'name_of_company': 'Apna Recruiter'}, {'job_title': 'Call Centre Executive', 'name_of_company': 'RIGHT STEP CONSULTING PRIVATE LIMITED'}, {'job_title': 'Telesales Executive', 'name_of_company': 'Edumpus'}, {'job_title': 'Field Sales Executive', 'name_of_company': 'GenieHire'}, {'job_title': 'Day Shift BPO Openings For English & Hindi with CTC Upto 24k', 'name_of_company': 'Sanctus Hr'}, {'job_title': 'Insurance Advisor', 'name_of_company': 'Aditya Birla Capital'}, {'job_title': 'Internship - Email Database Curator', 'name_of_company': 'Talent500'}, {'job_title': 'Associate - Operations', 'name_of_company': '56 Ai Technologies'}, {'job_title': 'Growth Hacking Specialist - Internship', 'name_of_company': 'Opsio'}, {'job_title': 'Research Associate', 'name_of_company': 'Thepharmadaily Llp'}, {'job_title': 'Freshers For Packaging Development Exc - Ecommerce company, Bangalore', 'name_of_company': 'A well known Ecommerce company in Bangalore'}, {'job_title': 'SQL, PLSQL Database Developer', 'name_of_company': 'Leading Client'}, {'job_title': 'Research Associate', 'name_of_company': 'Precision Agriculture For Development'}, {'job_title': 'Product Intern', 'name_of_company': 'The Luxury Closet'}, {'job_title': 'Customer Support Officer', 'name_of_company': 'Entomo Gtdic'}, {'job_title': 'Junior Biomedical Engineer', 'name_of_company': 'Aster Medcity'}, {'job_title': \"Walk-in Fresher's/Expr-MIS /Ops/Reporting/Specialist-Leading IT Client\", 'name_of_company': 'Wisdom Bridge Consultants'}, {'job_title': 'Forex Officer & Assistant Manager', 'name_of_company': 'Oak Forex'}, {'job_title': 'Community Development Intern', 'name_of_company': 'Startupvisors'}, {'job_title': 'Research Intern', 'name_of_company': 'Artpark'}, {'job_title': 'Bio Statistician', 'name_of_company': 'Recruise India Consulting'}, {'job_title': 'Education Researcher', 'name_of_company': 'Prayoga Institute Of Education Research'}, {'job_title': 'Field Technician Environmental Monitoring', 'name_of_company': 'Ensys Technologies'}, {'job_title': 'Assistant Manager / Manager - Research, Insights and Knowledge', 'name_of_company': 'Samhita Social Ventures'}, {'job_title': 'Artificial Intelligence Intern', 'name_of_company': 'R C W M A S Global'}, {'job_title': 'Trainee Laboratory', 'name_of_company': 'Aster Medcity'}, {'job_title': 'Interns', 'name_of_company': 'Gleuck'}, {'job_title': 'Research Associate', 'name_of_company': 'St. Johns Research Institute'}, {'job_title': 'Research Intern', 'name_of_company': 'Horizontal Integration India'}, {'job_title': 'Associate.Academics', 'name_of_company': 'Aster Medcity'}, {'job_title': 'Intern ( Decarbonisation )', 'name_of_company': 'Center Study Science Technology Policy'}, {'job_title': 'Post - Doctoral Programme Fellow', 'name_of_company': 'Indian Institute for Human Settlements(IIHS)'}, {'job_title': 'Customer Support Officer', 'name_of_company': 'Kpisoft Technologies'}, {'job_title': 'AdOps Intern', 'name_of_company': 'Wego'}, {'job_title': 'Intern, Accounts Receivable', 'name_of_company': 'Wego'}, {'job_title': 'Operations Associate', 'name_of_company': 'Finance In A Box'}, {'job_title': 'Software Engineer (Php)', 'name_of_company': 'Reconnect Energy Solutions'}, {'job_title': 'Consultant', 'name_of_company': 'SNB Associates'}, {'job_title': 'AR Callers', 'name_of_company': 'BLUE CHIP HR SOLUTIONS PVT LTD'}, {'job_title': 'Research and Development Intern', 'name_of_company': 'Artpark'}, {'job_title': 'SDE - Backend - Intern', 'name_of_company': 'Cloudsek Information Security'}, {'job_title': 'Yield Defect Engineer', 'name_of_company': 'Globalfoundries'}, {'job_title': 'Biomodeling Intern', 'name_of_company': 'Cellworks Research India'}, {'job_title': 'Freshers - MBA in Marketing', 'name_of_company': 'Congruent It Services'}, {'job_title': 'Project Coordinator', 'name_of_company': 'Mediacle'}, {'job_title': 'Molecular Parasitology lab', 'name_of_company': 'Institute Of Bioinformatics And Applied Biotechnology'}, {'job_title': 'Supply Chain Management ( SCM ) Intern', 'name_of_company': 'Hynetic Electronics'}, {'job_title': 'Digital Marketing Manager', 'name_of_company': 'Cloud Packers and Movers'}, {'job_title': 'Analytical Chemist', 'name_of_company': 'Leonid Chemicals'}, {'job_title': 'NLP Engineer', 'name_of_company': 'Senseforth.ai'}, {'job_title': 'Research Intern', 'name_of_company': 'Epic Foods'}, {'job_title': 'IT Recruiter', 'name_of_company': 'Arissa India'}, {'job_title': 'ML / AI internship', 'name_of_company': 'Appobile Labs'}, {'job_title': 'Social Media Associate / Manager', 'name_of_company': 'Socioboard Technologies Pvt. Ltd.'}, {'job_title': 'MARKETING INTERNSHIP', 'name_of_company': 'Xtrogenesis Technology Llp'}, {'job_title': 'Marketing Associate', 'name_of_company': 'Ecovia'}, {'job_title': 'Manual & Automation testing', 'name_of_company': 'Lekha Wireless Solutions Pvt. Ltd'}, {'job_title': 'Associate Staff Engineer', 'name_of_company': 'Becton Dickinson'}, {'job_title': 'Project Management Internship', 'name_of_company': 'Comprinno Technologies'}, {'job_title': 'Computational Epidemiology Intern', 'name_of_company': 'Artpark'}, {'job_title': 'Genomics Application Specialist (GASp) -(Sequencing & Consumables)', 'name_of_company': 'Xcelris'}, {'job_title': 'Product Intern', 'name_of_company': 'Upstox'}, {'job_title': 'Associate Staff Engineer', 'name_of_company': 'Becton Dickinson'}, {'job_title': 'Digital Marketing - Paid Ads Specialist', 'name_of_company': 'Aspire Proptech'}, {'job_title': 'Campaign Manager', 'name_of_company': 'Bright Capital'}, {'job_title': 'Statistical Programmer', 'name_of_company': 'Cloudphysician Healthcare'}, {'job_title': 'Specialist-Order Management&Customer Service', 'name_of_company': 'Mann+Hummel'}, {'job_title': 'Associate - Sales Enablement', 'name_of_company': 'Cavli Wireless'}]\n"
     ]
    }
   ],
   "source": [
    "print(job_list)"
   ]
  },
  {
   "cell_type": "code",
   "execution_count": 11,
   "metadata": {},
   "outputs": [],
   "source": [
    "df = pd.DataFrame(job_list)"
   ]
  },
  {
   "cell_type": "code",
   "execution_count": 12,
   "metadata": {},
   "outputs": [],
   "source": [
    "df.to_excel(\"Naukri Scrape.xlsx\", index = False)"
   ]
  }
 ],
 "metadata": {
  "kernelspec": {
   "display_name": ".env",
   "language": "python",
   "name": "python3"
  },
  "language_info": {
   "codemirror_mode": {
    "name": "ipython",
    "version": 3
   },
   "file_extension": ".py",
   "mimetype": "text/x-python",
   "name": "python",
   "nbconvert_exporter": "python",
   "pygments_lexer": "ipython3",
   "version": "3.9.6"
  }
 },
 "nbformat": 4,
 "nbformat_minor": 2
}
